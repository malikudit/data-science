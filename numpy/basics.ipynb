{
 "cells": [
  {
   "cell_type": "markdown",
   "id": "454bc905",
   "metadata": {},
   "source": [
    "NumPy provides a high-performance n-dimensional array object. <br>\n",
    "A NumPy array is a grid of values, all of the same type, and is indexed by a tuple of nonnegative integers.\n",
    "\n",
    "<b>Rank</b>: Number of dimensions <br>\n",
    "<b>Shape</b>: Tuple of integers giving the size of the array along each dimension"
   ]
  },
  {
   "cell_type": "code",
   "execution_count": 19,
   "id": "e51734f5",
   "metadata": {
    "scrolled": true
   },
   "outputs": [
    {
     "name": "stdout",
     "output_type": "stream",
     "text": [
      "<class 'numpy.ndarray'>\n",
      "(3,)\n",
      "(2, 3)\n",
      "[[0. 0.]\n",
      " [0. 0.]]\n",
      "[[1. 1.]]\n",
      "[[7 7]\n",
      " [7 7]]\n",
      "[[1. 0.]\n",
      " [0. 1.]]\n"
     ]
    },
    {
     "data": {
      "text/plain": [
       "array([4.24399158e-314, 8.48798317e-314, 1.27319747e-313])"
      ]
     },
     "execution_count": 19,
     "metadata": {},
     "output_type": "execute_result"
    }
   ],
   "source": [
    "# Initializing a NumPy array\n",
    "import numpy as np\n",
    "\n",
    "arr = np.array([1,2,3]) # rank = 1\n",
    "print(type(arr))        # prints <class 'numpy.ndarray'> \n",
    "print(arr.shape)        # prints (3,)\n",
    "arr2 = np.array([[1,2,3],[4,5,6]])\n",
    "print(arr2.shape)       # prints (2,3)\n",
    "\n",
    "arr3 = np.zeros((2,2))\n",
    "print(arr3)\n",
    "arr4 = np.ones((1,2))\n",
    "print(arr4)\n",
    "arr5 = np.full((2,2),7) # creates constant array\n",
    "print(arr5)\n",
    "i = np.eye(2)           # creates 2x2 identity matrix\n",
    "print(i)\n",
    "\n",
    "np.random.random((2,2)) # for uniformly distributed random values, 2x2 array with values b/w 0 and 1\n",
    "np.random.normal(0,1,(3,3)) # for normally distributed random values, mean 0, stddev 1\n",
    "np.random.randint(0,10,(3,3)) # for random integers in interval [0,10)\n",
    "np.empty(3) # uninitialized with 3 integers, value is whatever exists at that memory location"
   ]
  },
  {
   "cell_type": "code",
   "execution_count": 14,
   "id": "38959654-06bb-4c15-ae1d-ba42696d1b9d",
   "metadata": {},
   "outputs": [
    {
     "data": {
      "text/plain": [
       "array([0.  , 0.25, 0.5 , 0.75, 1.  ])"
      ]
     },
     "execution_count": 14,
     "metadata": {},
     "output_type": "execute_result"
    }
   ],
   "source": [
    "# Other initializations\n",
    "import numpy as np\n",
    "\n",
    "np.array([1, 2, 3, 4], dtype='float32') # for float\n",
    "np.array([range(i, i + 3) for i in [2, 4, 6]]) # prints array([[2, 3, 4],\n",
    "                                               #[4, 5, 6],\n",
    "                                               #[6, 7, 8]])\n",
    "np.arange(0,20,2) # linear sequence starting at 0, ending at 20, step 2\n",
    "np.linspace(0,1,5) # creates array of 5 values evenly spaced between 0 and 1"
   ]
  },
  {
   "cell_type": "code",
   "execution_count": 10,
   "id": "5123e6dd",
   "metadata": {},
   "outputs": [
    {
     "name": "stdout",
     "output_type": "stream",
     "text": [
      "2\n",
      "77\n",
      "[5 6 7 8] (4,)\n",
      "[[5 6 7 8]] (1, 4)\n",
      "[ 2  6 10] (3,)\n",
      "[[ 2]\n",
      " [ 6]\n",
      " [10]] (3, 1)\n"
     ]
    }
   ],
   "source": [
    "# Indexing NumPy arrays\n",
    "import numpy as np\n",
    "\n",
    "a = np.array([[1,2,3,4],[5,6,7,8],[9,10,11,12]])\n",
    "b = a[:2, 1:3] # pulls out subarray containing the first 2 rows, and columns 1 and 2; shape of b then is (2,2)\n",
    "print(a[0,1])\n",
    "b[0,0] = 77\n",
    "print(a[0,1]) # will print 77 as b[0,0] is the same piece of data as a[0,1\n",
    "\n",
    "c = np.array([[1,2,3,4],[5,6,7,8],[9,10,11,12]])\n",
    "r1 = c[1, :] # rank 1 view of the second row of a\n",
    "r2 = c[1:2, :] # rank 2 view of the second row of a\n",
    "print(r1, r1.shape) # prints [5,6,7,8] (4,)\n",
    "print(r2, r2.shape) # prints [[5,6,7,8]] (1,4)\n",
    "c1 = c[:, 1]\n",
    "c2 = c[:, 1:2]\n",
    "print(c1, c1.shape)\n",
    "print(c2, c2.shape)\n",
    "\n",
    "d = np.array([[1,2],[3,4],[5,6]])\n",
    "print(d[[0,1,2],[0,1,0]])  # prints [1,4,5] with shape (3,) which is equivalent to below line\n",
    "print(np.array([d[0,0],d[1,1],d[2,0]]))\n"
   ]
  },
  {
   "cell_type": "markdown",
   "id": "0be16741",
   "metadata": {},
   "source": [
    "One useful trick with integer array indexing is the ability to select or mutate one element from each row of a matrix."
   ]
  },
  {
   "cell_type": "code",
   "execution_count": null,
   "id": "dd28aad8",
   "metadata": {},
   "outputs": [],
   "source": [
    "import numpy as np\n",
    "\n",
    "arr = np.array([[1,2,3],[4,5,6],[7,8,9],[10,11,12]])\n",
    "print(arr)\n",
    "arr2 = np.array([0,2,0,1]) # creating array of indices\n",
    "print(arr[np.arange(4),arr2]) # select one element from each row of arr using the indices in arr2, prints [1,6,7,11]\n",
    "arr[np.arange(4),arr2] += 10 # mutate one element from each row of arr using the indices in arr2\n",
    "print(arr)  # prints \"array([[11,  2,  3],\n",
    "            #                [ 4,  5, 16],\n",
    "            #                [17,  8,  9],\n",
    "            #                [10, 21, 12]])"
   ]
  },
  {
   "cell_type": "code",
   "execution_count": null,
   "id": "02ab4bd8-7750-4c1d-8b0d-cb3b2aa06cc6",
   "metadata": {},
   "outputs": [],
   "source": []
  }
 ],
 "metadata": {
  "kernelspec": {
   "display_name": "Python 3 (ipykernel)",
   "language": "python",
   "name": "python3"
  },
  "language_info": {
   "codemirror_mode": {
    "name": "ipython",
    "version": 3
   },
   "file_extension": ".py",
   "mimetype": "text/x-python",
   "name": "python",
   "nbconvert_exporter": "python",
   "pygments_lexer": "ipython3",
   "version": "3.10.1"
  }
 },
 "nbformat": 4,
 "nbformat_minor": 5
}
