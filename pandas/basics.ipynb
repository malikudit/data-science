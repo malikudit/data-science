{
 "cells": [
  {
   "cell_type": "markdown",
   "id": "229711b9",
   "metadata": {},
   "source": [
    "Pandas objects, in a way, are like ndarrays where the rows and columns are identified with labels rather than integer indices. <br> \n",
    "<br>\n",
    "<b>Series</b><br>\n",
    "A Pandas series object is a one-dimensional array of indexed data."
   ]
  },
  {
   "cell_type": "code",
   "execution_count": 2,
   "id": "ba5e28fc",
   "metadata": {},
   "outputs": [
    {
     "data": {
      "text/plain": [
       "0    0.25\n",
       "1    0.50\n",
       "2    0.75\n",
       "3    1.00\n",
       "dtype: float64"
      ]
     },
     "execution_count": 2,
     "metadata": {},
     "output_type": "execute_result"
    }
   ],
   "source": [
    "import pandas as pd\n",
    "\n",
    "data = pd.Series([0.25,0.50,0.75,1.00]) # wraps both a sequence of indices and sequence of values\n",
    "data "
   ]
  },
  {
   "cell_type": "code",
   "execution_count": 3,
   "id": "f33ef2e4",
   "metadata": {},
   "outputs": [
    {
     "data": {
      "text/plain": [
       "array([0.25, 0.5 , 0.75, 1.  ])"
      ]
     },
     "execution_count": 3,
     "metadata": {},
     "output_type": "execute_result"
    }
   ],
   "source": [
    "data.values # prints array values, similar to NumPy"
   ]
  },
  {
   "cell_type": "code",
   "execution_count": 4,
   "id": "b94c53a7",
   "metadata": {},
   "outputs": [
    {
     "data": {
      "text/plain": [
       "RangeIndex(start=0, stop=4, step=1)"
      ]
     },
     "execution_count": 4,
     "metadata": {},
     "output_type": "execute_result"
    }
   ],
   "source": [
    "data.index # array-like object of type pd.Index"
   ]
  },
  {
   "cell_type": "code",
   "execution_count": 6,
   "id": "e346d303",
   "metadata": {},
   "outputs": [
    {
     "data": {
      "text/plain": [
       "1    0.50\n",
       "2    0.75\n",
       "dtype: float64"
      ]
     },
     "execution_count": 6,
     "metadata": {},
     "output_type": "execute_result"
    }
   ],
   "source": [
    "data[1]\n",
    "data[1:3]"
   ]
  },
  {
   "cell_type": "markdown",
   "id": "1d9d14a6",
   "metadata": {},
   "source": [
    "The Series object is functionally similar to a <i>1</i>-dimensional NumPy array, with one primary difference: the former has an explicitly defined index associated with the values, whereas the latter has an implicitly defined integer index used to access the values.<br>\n",
    "This can allows us to use strings or other types as an index:"
   ]
  },
  {
   "cell_type": "code",
   "execution_count": 8,
   "id": "23f222e2",
   "metadata": {},
   "outputs": [
    {
     "data": {
      "text/plain": [
       "0.5"
      ]
     },
     "execution_count": 8,
     "metadata": {},
     "output_type": "execute_result"
    }
   ],
   "source": [
    "data = pd.Series([0.25,0.50,0.75,1.00],index=['a','b','c','d'])\n",
    "data\n",
    "data['b']"
   ]
  },
  {
   "cell_type": "markdown",
   "id": "585580d1",
   "metadata": {},
   "source": [
    "Can also use non-contiguous/non-sequential indices."
   ]
  },
  {
   "cell_type": "code",
   "execution_count": 9,
   "id": "cdd5c44a",
   "metadata": {},
   "outputs": [
    {
     "data": {
      "text/plain": [
       "0.5"
      ]
     },
     "execution_count": 9,
     "metadata": {},
     "output_type": "execute_result"
    }
   ],
   "source": [
    "data = pd.Series([0.25,0.50,0.75,1.00],index=[2,5,3,7])\n",
    "data\n",
    "data[5]"
   ]
  },
  {
   "cell_type": "code",
   "execution_count": null,
   "id": "4eaa8320",
   "metadata": {},
   "outputs": [],
   "source": []
  }
 ],
 "metadata": {
  "kernelspec": {
   "display_name": "Python 3 (ipykernel)",
   "language": "python",
   "name": "python3"
  },
  "language_info": {
   "codemirror_mode": {
    "name": "ipython",
    "version": 3
   },
   "file_extension": ".py",
   "mimetype": "text/x-python",
   "name": "python",
   "nbconvert_exporter": "python",
   "pygments_lexer": "ipython3",
   "version": "3.10.1"
  }
 },
 "nbformat": 4,
 "nbformat_minor": 5
}
