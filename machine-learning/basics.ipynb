{
 "cells": [
  {
   "cell_type": "markdown",
   "metadata": {},
   "source": [
    "<b>Supervised ML</b>: relies on labeled input data to learn a function that produces an appropriate output when given new unlabeled data. Usually used to solve classification or regression problems.<br>\n",
    "A <b>classification</b> problem has a discrete value as its output. The data usually contains a predictor/set of predictors, and a label; for example, trying to predict whether someone likes spaghetti (1) or not (0) based on their age (which is the predictor).<br>\n",
    "A <b>regression</b> problem has a real number as its output, where we have an independent variable(s) and a dependent variable; for example, trying to estimate someone's weight using their height, where the former is the dependent variable and the latter is the independent variable.<br><br>\n",
    "Each row is called an example, observation, or data point.<br>\n",
    "Each column is called a predictor, dimension, independent variable, or feature.<br><br>\n",
    "<b>Unsupervised ML</b>: makes use of input data without any labels, and tries to learn the basic structure of the data to give insights."
   ]
  },
  {
   "cell_type": "markdown",
   "metadata": {},
   "source": []
  },
  {
   "cell_type": "markdown",
   "metadata": {},
   "source": []
  }
 ],
 "metadata": {
  "language_info": {
   "name": "python"
  },
  "orig_nbformat": 4
 },
 "nbformat": 4,
 "nbformat_minor": 2
}
